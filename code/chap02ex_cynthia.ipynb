{
 "metadata": {
  "name": "",
  "signature": "sha256:4ae6c111431baf42a0e36adbdf414f91ac783a7c67033daee1f3f692a4fccd72"
 },
 "nbformat": 3,
 "nbformat_minor": 0,
 "worksheets": [
  {
   "cells": [
    {
     "cell_type": "markdown",
     "metadata": {},
     "source": [
      "Read the female respondent file and display the variables names."
     ]
    },
    {
     "cell_type": "code",
     "collapsed": false,
     "input": [
      "import chap01soln\n",
      "resp = chap01soln.ReadFemResp()\n",
      "resp.columns"
     ],
     "language": "python",
     "metadata": {},
     "outputs": [
      {
       "metadata": {},
       "output_type": "pyout",
       "prompt_number": 3,
       "text": [
        "Index([u'caseid', u'rscrinf', u'rdormres', u'rostscrn', u'rscreenhisp', u'rscreenrace', u'age_a', u'age_r', u'cmbirth', u'agescrn', u'marstat', u'fmarstat', u'fmarit', u'evrmarry', u'hisp', u'hispgrp', u'numrace', u'roscnt', u'hplocale', u'manrel', u'fl_rage', u'fl_rrace', u'fl_rhisp', u'goschol', u'vaca', u'higrade', u'compgrd', u'havedip', u'dipged', u'cmhsgrad', u'havedeg', u'degrees', u'wthparnw', u'onown', u'intact', u'parmarr', u'lvsit14f', u'lvsit14m', u'womrasdu', u'momdegre', u'momworkd', u'momchild', u'momfstch', u'mom18', u'manrasdu', u'daddegre', u'bothbiol', u'intact18', u'onown18', u'numbabes', u'totplacd', u'nplaced', u'ndied', u'nadoptv', u'hasbabes', u'cmlastlb', u'cmfstprg', u'cmlstprg', u'menarche', u'pregnowq', u'maybpreg', u'numpregs', u'everpreg', u'currpreg', u'moscurrp', u'giveadpt', u'ngivenad', u'otherkid', u'nothrkid', u'sexothkd', u'relothkd', u'adptotkd', u'tryadopt', u'tryeithr', u'stilhere', u'cmokdcam', u'othkdfos', u'cmokddob', u'othkdspn', u'othkdrac1', u'othkdrac2', u'kdbstrac', u'okbornus', u'okdisabl1', u'sexothkd2', u'relothkd2', u'adptotkd2', u'tryadopt2', u'tryeithr2', u'stilhere2', u'cmokdcam2', u'othkdfos2', u'cmokddob2', u'othkdspn2', u'othkdrac6', u'okbornus2', u'okdisabl5', u'sexothkd3', u'relothkd3', u'adptotkd3', ...], dtype='object')"
       ]
      }
     ],
     "prompt_number": 3
    },
    {
     "cell_type": "markdown",
     "metadata": {},
     "source": [
      "Make a histogram of <tt>totincr</tt> the total income for the respondent's family.  To interpret the codes see the [codebook](http://www.icpsr.umich.edu/nsfg6/Controller?displayPage=labelDetails&fileCode=MALE&section=R&subSec=7958&srtLabel=609776)."
     ]
    },
    {
     "cell_type": "code",
     "collapsed": false,
     "input": [
      "import thinkstats2\n",
      "hist = thinkstats2.Hist(resp.totincr)"
     ],
     "language": "python",
     "metadata": {},
     "outputs": [],
     "prompt_number": 4
    },
    {
     "cell_type": "markdown",
     "metadata": {},
     "source": [
      "Display the histogram."
     ]
    },
    {
     "cell_type": "code",
     "collapsed": false,
     "input": [
      "import thinkplot\n",
      "thinkplot.Hist(hist, label='totincr')\n",
      "thinkplot.Show()"
     ],
     "language": "python",
     "metadata": {},
     "outputs": [
      {
       "metadata": {},
       "output_type": "display_data",
       "png": "[encoded data removed]",
       "text": [
        "<matplotlib.figure.Figure at 0x7f60742c9490>"
       ]
      },
      {
       "metadata": {},
       "output_type": "display_data",
       "text": [
        "<matplotlib.figure.Figure at 0x7f6072fc4c10>"
       ]
      }
     ],
     "prompt_number": 5
    },
    {
     "cell_type": "markdown",
     "metadata": {},
     "source": [
      "Make a histogram of <tt>ager</tt>, the respondent's age at the time of interview."
     ]
    },
    {
     "cell_type": "code",
     "collapsed": false,
     "input": [
      "hist2 = thinkstats2.Hist(resp.ager)\n",
      "thinkplot.Hist(hist2, label='ager')\n",
      "thinkplot.show()"
     ],
     "language": "python",
     "metadata": {},
     "outputs": [
      {
       "metadata": {},
       "output_type": "display_data",
       "png": "[encoded data removed]",
       "text": [
        "<matplotlib.figure.Figure at 0x7f6072976490>"
       ]
      },
      {
       "metadata": {},
       "output_type": "display_data",
       "text": [
        "<matplotlib.figure.Figure at 0x7f6072976310>"
       ]
      }
     ],
     "prompt_number": 6
    },
    {
     "cell_type": "markdown",
     "metadata": {},
     "source": [
      "Make a histogram of <tt>numfmhh</tt>, the number of people in the respondent's household."
     ]
    },
    {
     "cell_type": "code",
     "collapsed": false,
     "input": [
      "hist3 = thinkstats2.Hist(resp.numfmhh)\n",
      "thinkplot.Hist(hist3, label='ager')\n",
      "thinkplot.show()"
     ],
     "language": "python",
     "metadata": {},
     "outputs": [
      {
       "metadata": {},
       "output_type": "display_data",
       "png": "[encoded data removed]",
       "text": [
        "<matplotlib.figure.Figure at 0x7f6073aca2d0>"
       ]
      },
      {
       "metadata": {},
       "output_type": "display_data",
       "text": [
        "<matplotlib.figure.Figure at 0x7f6072b14a90>"
       ]
      }
     ],
     "prompt_number": 7
    },
    {
     "cell_type": "markdown",
     "metadata": {},
     "source": [
      "Make a histogram of <tt>parity</tt>, the number children the respondent has borne.  How would you describe this distribution?"
     ]
    },
    {
     "cell_type": "code",
     "collapsed": false,
     "input": [
      "parity_hist = thinkstats2.Hist(resp.parity)\n",
      "thinkplot.Hist(parity_hist, label='parity')\n",
      "thinkplot.show()"
     ],
     "language": "python",
     "metadata": {},
     "outputs": [
      {
       "metadata": {},
       "output_type": "display_data",
       "png": "[encoded data removed]",
       "text": [
        "<matplotlib.figure.Figure at 0x7f60731bbe10>"
       ]
      },
      {
       "metadata": {},
       "output_type": "display_data",
       "text": [
        "<matplotlib.figure.Figure at 0x7f6073aca950>"
       ]
      }
     ],
     "prompt_number": 8
    },
    {
     "cell_type": "markdown",
     "metadata": {},
     "source": [
      "Use Hist.Largest to find the largest values of <tt>parity</tt>."
     ]
    },
    {
     "cell_type": "code",
     "collapsed": false,
     "input": [
      "parity_hist.Largest()"
     ],
     "language": "python",
     "metadata": {},
     "outputs": [
      {
       "metadata": {},
       "output_type": "pyout",
       "prompt_number": 9,
       "text": [
        "[(22, 1),\n",
        " (16, 1),\n",
        " (10, 3),\n",
        " (9, 2),\n",
        " (8, 8),\n",
        " (7, 15),\n",
        " (6, 29),\n",
        " (5, 95),\n",
        " (4, 309),\n",
        " (3, 828)]"
       ]
      }
     ],
     "prompt_number": 9
    },
    {
     "cell_type": "markdown",
     "metadata": {},
     "source": [
      "Use <tt>totincr</tt> to select the respondents with the highest income.  Compute the distribution of <tt>parity</tt> for just the high income respondents."
     ]
    },
    {
     "cell_type": "code",
     "collapsed": false,
     "input": [
      "resp.totincr.value_counts().sort_index()"
     ],
     "language": "python",
     "metadata": {},
     "outputs": [
      {
       "metadata": {},
       "output_type": "pyout",
       "prompt_number": 10,
       "text": [
        "1      299\n",
        "2      301\n",
        "3      266\n",
        "4      421\n",
        "5      445\n",
        "6      559\n",
        "7      583\n",
        "8      606\n",
        "9      607\n",
        "10     468\n",
        "11     647\n",
        "12     658\n",
        "13     623\n",
        "14    1160\n",
        "dtype: int64"
       ]
      }
     ],
     "prompt_number": 10
    },
    {
     "cell_type": "code",
     "collapsed": false,
     "input": [
      "highest_income = resp[resp.totincr==14]\n",
      "hist_highest_income = thinkstats2.Hist(highest_income.parity)\n",
      "thinkplot.Hist(hist_highest_income, label='parity')\n",
      "thinkplot.Show()"
     ],
     "language": "python",
     "metadata": {},
     "outputs": [
      {
       "metadata": {},
       "output_type": "display_data",
       "png": "[encoded data removed]",
       "text": [
        "<matplotlib.figure.Figure at 0x7f6073282310>"
       ]
      },
      {
       "metadata": {},
       "output_type": "display_data",
       "text": [
        "<matplotlib.figure.Figure at 0x7f60731bbb90>"
       ]
      }
     ],
     "prompt_number": 11
    },
    {
     "cell_type": "markdown",
     "metadata": {},
     "source": [
      "Find the largest parities for high income respondents."
     ]
    },
    {
     "cell_type": "code",
     "collapsed": false,
     "input": [
      "hist_highest_income.Largest()"
     ],
     "language": "python",
     "metadata": {},
     "outputs": [
      {
       "metadata": {},
       "output_type": "pyout",
       "prompt_number": 12,
       "text": [
        "[(8, 1), (7, 1), (5, 5), (4, 19), (3, 123), (2, 267), (1, 229), (0, 515)]"
       ]
      }
     ],
     "prompt_number": 12
    },
    {
     "cell_type": "markdown",
     "metadata": {},
     "source": [
      "Compare the mean <tt>parity</tt> for high income respondents and others."
     ]
    },
    {
     "cell_type": "code",
     "collapsed": false,
     "input": [
      "highest_income_parity_mean = highest_income.parity.mean()\n",
      "other_income = resp[resp.totincr<14]\n",
      "other_income_parity_mean = other_income.parity.mean()\n",
      "[highest_income_parity_mean, other_income_parity_mean]"
     ],
     "language": "python",
     "metadata": {},
     "outputs": [
      {
       "metadata": {},
       "output_type": "pyout",
       "prompt_number": 13,
       "text": [
        "[1.0758620689655172, 1.2495758136665125]"
       ]
      }
     ],
     "prompt_number": 13
    },
    {
     "cell_type": "markdown",
     "metadata": {},
     "source": [
      "Investigate any other variables that look interesting."
     ]
    },
    {
     "cell_type": "code",
     "collapsed": false,
     "input": [],
     "language": "python",
     "metadata": {},
     "outputs": [],
     "prompt_number": 13
    }
   ],
   "metadata": {}
  }
 ]
}